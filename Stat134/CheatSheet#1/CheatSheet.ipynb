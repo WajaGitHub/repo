{
 "cells": [
  {
   "cell_type": "markdown",
   "id": "96f4f35b",
   "metadata": {},
   "source": [
    "Cheat sheet # 1 --> Covers:1.1 - 3.1 (skip 2.3) "
   ]
  },
  {
   "cell_type": "markdown",
   "id": "9e0f9ce8",
   "metadata": {},
   "source": [
    "Termininology:\n",
    "\n",
    "1.\"Picked at random\" -- means everyone has the same chance of being chosen. The draw is honest, fair, or unbiased.\n",
    "\n",
    "2.$\\Omega $ --> Take for granted this intutiotive idea of equally likely otucomes. Repsents the set of all possible outcomes of some situation or experiment by $\\Omega $. For example, $\\Omega $ = {head,tail} for the result of otissing a coin, $\\Omega $ = {1,2,3,4,5,6} for rolling an ordinary six-sided dice.\n",
    "\n",
    "3.The set of $\\Omega $ is calle dthe outocme space.\n",
    "\n"
   ]
  },
  {
   "cell_type": "markdown",
   "id": "d98e9194",
   "metadata": {},
   "source": [
    "Formulas:\n",
    "\n",
    "**Equally Likely Outcomes:** If all outcomes in finite set $\\Omega $ are equally likely, the probability of A is the number of outcomes in A by the totoal of outcomes: \n",
    "\n",
    "$$P(A) = \\frac{\\#(A)}{\\#(\\Omega)}$$\n",
    "\n",
    "$\\#(A)$ --> represents the number of chance for A to occur, or the number of different ways A can happen."
   ]
  },
  {
   "cell_type": "markdown",
   "id": "db624dee",
   "metadata": {},
   "source": [
    "**Rules of Proportion and Probabibility** \n",
    "> **1. None-Negative:** P(B) $\\ge$ 0\n",
    "    \n",
    "> **2. Addtion:** if $B\\_1, B\\_2, ..., B\\_n$\n",
    "    \n",
    "> **3. Total One:**"
   ]
  },
  {
   "cell_type": "code",
   "execution_count": null,
   "id": "dbeefd02",
   "metadata": {},
   "outputs": [],
   "source": []
  }
 ],
 "metadata": {
  "kernelspec": {
   "display_name": "Python 3 (ipykernel)",
   "language": "python",
   "name": "python3"
  },
  "language_info": {
   "codemirror_mode": {
    "name": "ipython",
    "version": 3
   },
   "file_extension": ".py",
   "mimetype": "text/x-python",
   "name": "python",
   "nbconvert_exporter": "python",
   "pygments_lexer": "ipython3",
   "version": "3.11.3"
  }
 },
 "nbformat": 4,
 "nbformat_minor": 5
}
